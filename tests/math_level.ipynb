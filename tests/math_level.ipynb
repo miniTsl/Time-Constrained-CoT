{
 "cells": [
  {
   "cell_type": "code",
   "execution_count": null,
   "metadata": {},
   "outputs": [],
   "source": [
    "import os\n",
    "import time\n",
    "import numpy as np\n",
    "from typing import Iterable, Union, Any\n",
    "import json\n",
    "from pathlib import Path\n",
    "\n",
    "file_dir = \"../outputs/12_26/\"\n",
    "model_list = [\"Qwen/Qwen2.5-32B-Instruct\", \"Qwen/Qwen2.5-14B-Instruct\", \"Qwen/Qwen2.5-7B-Instruct\", \"Qwen/Qwen2.5-3B-Instruct\", \"Qwen/Qwen2.5-1.5B-Instruct\", \"mistralai/Mathstral-7B-v0.1\"]\n",
    "\n",
    "prompt_type1 = \"qwen25-math-cot\"\n",
    "prompt_type2 = \"coarse-to-fine-qwen\"\n",
    "prompt_type3 = \"mathstral-step-by-step\"\n",
    "prompt_type4 = \"mathstral-coarse-to-fine\"\n"
   ]
  },
  {
   "cell_type": "code",
   "execution_count": null,
   "metadata": {},
   "outputs": [],
   "source": [
    "def load_jsonl(file: Union[str, Path]) -> Iterable[Any]:\n",
    "    with open(file, \"r\", encoding=\"utf-8\") as f:\n",
    "        for line in f:\n",
    "            try:\n",
    "                yield json.loads(line)\n",
    "            except:\n",
    "                print(\"Error in loading:\", line)\n",
    "                exit()\n",
    "\n",
    "\n",
    "def save_jsonl(samples, save_path):\n",
    "    # ensure path\n",
    "    folder = os.path.dirname(save_path)\n",
    "    os.makedirs(folder, exist_ok=True)\n",
    "\n",
    "    with open(save_path, \"w\", encoding=\"utf-8\") as f:\n",
    "        for sample in samples:\n",
    "            f.write(json.dumps(sample, ensure_ascii=False) + \"\\n\")\n",
    "    print(\"Saved to\", save_path)"
   ]
  },
  {
   "cell_type": "code",
   "execution_count": null,
   "metadata": {},
   "outputs": [],
   "source": []
  }
 ],
 "metadata": {
  "kernelspec": {
   "display_name": "qwen25_math_eval",
   "language": "python",
   "name": "python3"
  },
  "language_info": {
   "name": "python",
   "version": "3.10.15"
  }
 },
 "nbformat": 4,
 "nbformat_minor": 2
}
