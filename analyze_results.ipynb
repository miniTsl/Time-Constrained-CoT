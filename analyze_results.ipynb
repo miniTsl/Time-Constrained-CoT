{
 "cells": [
  {
   "cell_type": "code",
   "execution_count": 7,
   "metadata": {},
   "outputs": [
    {
     "name": "stdout",
     "output_type": "stream",
     "text": [
      "[9, 115, 132, 270, 316, 331, 509, 510, 565, 604, 657, 659, 674, 735, 747, 750, 764, 809, 824, 1140, 1167, 1225, 1529, 1559, 2052, 2121, 2133, 2220, 2384, 2469, 2484, 2590, 2704, 2729, 2898, 2927, 2933, 3047, 3205, 3267, 3317, 3445, 3490, 3556, 3626, 3645, 3669, 3691, 3867, 3903, 3904, 3907, 3980, 3984, 4008, 4035, 4161, 4188, 4270, 4274, 4297, 4362, 4426, 4428, 4448, 4482, 4484, 4526, 4649, 4779, 4809, 4813, 4831, 4930]\n",
      "74\n",
      "[]\n",
      "[370, 515, 893, 944, 1675, 1762, 1792, 1816, 1929, 2130, 2356, 2540, 2597, 3155, 4134, 4715, 4748, 4884]\n",
      "[1396, 1983, 4043, 4515, 4941]\n",
      "[1022, 1144, 1203, 1551, 4585]\n",
      "[2621, 4494, 4701]\n",
      "[776]\n",
      "[1664]\n",
      "[]\n",
      "[]\n",
      "107\n"
     ]
    }
   ],
   "source": [
    "from utils import load_jsonl\n",
    "root_path = '/home/wenhao/Time-Constrained-CoT/outputs/12_20/models--Qwen--Qwen2.5-3B-Instruct/math'\n",
    "top1_similarity_path = root_path + '/test_in-context-corse-to-fine_-1_seed0_t0.0_s0_e-1_cot_1.jsonl'\n",
    "top1_similarity = load_jsonl(top1_similarity_path)\n",
    "top1_corrects = []\n",
    "for data in top1_similarity:\n",
    "    if data['score'][0]:\n",
    "        top1_corrects.append(data['idx'])\n",
    "print(top1_corrects)\n",
    "print(len(top1_corrects))\n",
    "for i in range(1, 10):\n",
    "    similarity_path = root_path + '/test_in-context-corse-to-fine_-1_seed0_t0.0_s0_e-1_cot_{}.jsonl'.format(i)\n",
    "    similarity = load_jsonl(similarity_path)\n",
    "    additional_corrects = []\n",
    "    for data in similarity:\n",
    "        if data['score'][0] and data['idx'] not in top1_corrects:\n",
    "            additional_corrects.append(data['idx'])\n",
    "            top1_corrects.append(data['idx'])\n",
    "    print(additional_corrects)\n",
    "print(len(top1_corrects))"
   ]
  },
  {
   "cell_type": "code",
   "execution_count": 2,
   "metadata": {},
   "outputs": [
    {
     "name": "stdout",
     "output_type": "stream",
     "text": [
      "[9, 115, 132, 270, 316, 331, 370, 509, 510, 604, 657, 659, 674, 735, 747, 750, 764, 809, 824, 944, 1140, 1167, 1396, 1559, 1762, 1983, 2121, 2130, 2133, 2220, 2356, 2384, 2469, 2484, 2540, 2590, 2621, 2704, 2729, 2898, 2927, 3047, 3155, 3267, 3317, 3490, 3556, 3626, 3645, 3669, 3691, 3867, 3903, 3904, 3907, 3980, 3984, 4008, 4035, 4161, 4188, 4270, 4274, 4297, 4362, 4426, 4428, 4448, 4482, 4484, 4526, 4701, 4715, 4748, 4779, 4809, 4813, 4831, 4884]\n",
      "79\n",
      "[565, 959, 1225, 1529, 1675, 1816, 3205, 3445, 4515, 4649, 4930]\n",
      "[893, 1022, 1792, 1929, 2052, 2597, 2746, 2933, 4134, 4585, 4941]\n",
      "[1198, 2254]\n",
      "[1203, 4494]\n",
      "[1990]\n",
      "[776]\n",
      "[]\n",
      "[1806, 2257, 4043]\n",
      "[]\n",
      "110\n"
     ]
    }
   ],
   "source": [
    "from utils import load_jsonl\n",
    "root_path = '/home/wenhao/Time-Constrained-CoT/outputs/12_11/models--Qwen--Qwen2.5-3B-Instruct/math'\n",
    "top1_similarity_path = root_path + '/test_corse-to-fine-structured_-1_seed0_t0.6_s0_e-1.jsonl'\n",
    "top1_similarity = load_jsonl(top1_similarity_path)\n",
    "top1_corrects = []\n",
    "for data in top1_similarity:\n",
    "    if data['score'][0]:\n",
    "        top1_corrects.append(data['idx'])\n",
    "print(top1_corrects)\n",
    "print(len(top1_corrects))\n",
    "for i in range(1, 10):\n",
    "    similarity_path = root_path + '/test_corse-to-fine-structured_-1_seed0_t0.6_s0_e-1_cot_{}.jsonl'.format(i)\n",
    "    similarity = load_jsonl(similarity_path)\n",
    "    additional_corrects = []\n",
    "    for data in similarity:\n",
    "        if data['score'][0] and data['idx'] not in top1_corrects:\n",
    "            additional_corrects.append(data['idx'])\n",
    "            top1_corrects.append(data['idx'])\n",
    "    print(additional_corrects)\n",
    "print(len(top1_corrects))"
   ]
  },
  {
   "cell_type": "code",
   "execution_count": 1,
   "metadata": {},
   "outputs": [
    {
     "name": "stdout",
     "output_type": "stream",
     "text": [
      "[9, 115, 132, 270, 316, 331, 370, 509, 510, 604, 657, 659, 674, 735, 747, 750, 809, 824, 959, 1022, 1140, 1167, 1675, 1762, 1792, 1816, 1983, 2121, 2130, 2133, 2356, 2384, 2469, 2540, 2597, 2704, 2729, 2746, 2898, 2927, 3047, 3155, 3267, 3317, 3490, 3556, 3626, 3645, 3669, 3867, 3903, 3904, 3907, 3980, 3984, 4008, 4035, 4134, 4161, 4188, 4270, 4274, 4297, 4362, 4426, 4428, 4526, 4649, 4715, 4748, 4809, 4813, 4831, 4930]\n",
      "74\n",
      "[]\n",
      "[565, 893, 944, 1198, 1203, 1225, 1396, 2052, 2220, 2254, 2484, 2621, 2933, 3445, 3691, 4448, 4482, 4515, 4585, 4779]\n",
      "[764, 1144, 1529, 1551, 1559, 4484, 4494]\n",
      "[515, 2257, 3205, 4701]\n",
      "[1990, 2590, 4043]\n",
      "[1806]\n",
      "[1929]\n",
      "[4941]\n",
      "[]\n",
      "111\n"
     ]
    }
   ],
   "source": [
    "from utils import load_jsonl\n",
    "root_path = '/home/wenhao/Time-Constrained-CoT/outputs/12_20/models--Qwen--Qwen2.5-3B-Instruct/math'\n",
    "top1_similarity_path = root_path + '/test_in-context-corse-to-fine_-1_seed0_t0.6_s0_e-1_cot_1.jsonl'\n",
    "top1_similarity = load_jsonl(top1_similarity_path)\n",
    "top1_corrects = []\n",
    "for data in top1_similarity:\n",
    "    if data['score'][0]:\n",
    "        top1_corrects.append(data['idx'])\n",
    "print(top1_corrects)\n",
    "print(len(top1_corrects))\n",
    "for i in range(1, 10):\n",
    "    similarity_path = root_path + '/test_in-context-corse-to-fine_-1_seed0_t0.6_s0_e-1_cot_{}.jsonl'.format(i)\n",
    "    similarity = load_jsonl(similarity_path)\n",
    "    additional_corrects = []\n",
    "    for data in similarity:\n",
    "        if data['score'][0] and data['idx'] not in top1_corrects:\n",
    "            additional_corrects.append(data['idx'])\n",
    "            top1_corrects.append(data['idx'])\n",
    "    print(additional_corrects)\n",
    "print(len(top1_corrects))"
   ]
  },
  {
   "cell_type": "code",
   "execution_count": null,
   "metadata": {},
   "outputs": [],
   "source": []
  }
 ],
 "metadata": {
  "kernelspec": {
   "display_name": "cot",
   "language": "python",
   "name": "python3"
  },
  "language_info": {
   "codemirror_mode": {
    "name": "ipython",
    "version": 3
   },
   "file_extension": ".py",
   "mimetype": "text/x-python",
   "name": "python",
   "nbconvert_exporter": "python",
   "pygments_lexer": "ipython3",
   "version": "3.10.16"
  }
 },
 "nbformat": 4,
 "nbformat_minor": 2
}
